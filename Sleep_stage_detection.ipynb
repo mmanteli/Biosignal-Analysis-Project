{
 "cells": [
  {
   "cell_type": "markdown",
   "metadata": {},
   "source": [
    "## Sleep stage analysis\n",
    "\n",
    "(jokin kuvaus datasta jne)\n",
    "\n",
    "Siiri Simola () and Amanda Myntti ()"
   ]
  },
  {
   "cell_type": "code",
   "execution_count": null,
   "metadata": {},
   "outputs": [],
   "source": [
    "import pandas as pd\n",
    "import glob\n",
    "import os\n",
    "import numpy as np"
   ]
  },
  {
   "cell_type": "markdown",
   "metadata": {},
   "source": [
    "### Reading the training data"
   ]
  },
  {
   "cell_type": "code",
   "execution_count": null,
   "metadata": {},
   "outputs": [],
   "source": [
    "PATH = os.path.join(os.getcwd(), 'data', 'train')\n",
    "\n",
    "raw_data = []\n",
    "\n",
    "for label in glob.glob(PATH+\"/*\"):\n",
    "    for file in glob.glob((label+\"/*.csv\")):\n",
    "        data = pd.read_csv(file)\n",
    "        data[\"label\"] = [label.split(os.sep)[-1]]*len(data)\n",
    "        raw_data.append(data)\n"
   ]
  }
 ],
 "metadata": {
  "interpreter": {
   "hash": "020f7d036e9df261a2a01114164e80f3ac6ec812dc6603c210a5c80f4ebbffb1"
  },
  "kernelspec": {
   "display_name": "Python 3.8.5 64-bit ('base': conda)",
   "language": "python",
   "name": "python3"
  },
  "language_info": {
   "codemirror_mode": {
    "name": "ipython",
    "version": 3
   },
   "file_extension": ".py",
   "mimetype": "text/x-python",
   "name": "python",
   "nbconvert_exporter": "python",
   "pygments_lexer": "ipython3",
   "version": "3.8.5"
  },
  "orig_nbformat": 4
 },
 "nbformat": 4,
 "nbformat_minor": 2
}
